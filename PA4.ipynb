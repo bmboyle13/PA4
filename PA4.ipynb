{
 "cells": [
  {
   "cell_type": "markdown",
   "id": "3250ff27",
   "metadata": {},
   "source": [
    "# Brandon Boyle\n",
    "## assignment 4\n",
    "### version 1\n",
    "#### cs-150-01"
   ]
  },
  {
   "cell_type": "code",
   "execution_count": 9,
   "id": "a3d37a8d",
   "metadata": {},
   "outputs": [
    {
     "name": "stdout",
     "output_type": "stream",
     "text": [
      "0:\n",
      "1:\n",
      "2:\n",
      "3:\n",
      "4:\n",
      "5:\n",
      "6: *\n",
      "7:\n",
      "8:\n",
      "9: *\n",
      "10:\n",
      "11:\n",
      "12: *\n",
      "13:\n",
      "14:\n",
      "15: *\n",
      "16:\n",
      "17:\n",
      "18: *\n",
      "19:\n",
      "20:\n",
      "21: *\n",
      "22:\n",
      "23:\n",
      "24: *\n",
      "25:\n",
      "26:\n",
      "27: *\n",
      "28:\n",
      "29:\n",
      "30: *\n",
      "31:\n",
      "32:\n",
      "33: *\n",
      "34:\n",
      "35:\n",
      "36: *\n",
      "37:\n",
      "38:\n",
      "39: *\n",
      "40:\n",
      "41:\n",
      "42: *\n",
      "43:\n",
      "44:\n",
      "45: *\n",
      "46:\n",
      "47:\n",
      "48: *\n",
      "49:\n",
      "50:\n",
      "51: *\n",
      "52:\n",
      "53:\n",
      "54: *\n",
      "55:\n",
      "56:\n",
      "57: *\n",
      "58:\n",
      "59:\n",
      "60: *\n",
      "61:\n",
      "62:\n",
      "63: *\n",
      "64:\n",
      "65:\n",
      "66: *\n",
      "67:\n",
      "68:\n",
      "69: *\n",
      "70:\n",
      "71:\n",
      "72: *\n",
      "73:\n",
      "74:\n",
      "75: *\n",
      "76:\n",
      "77:\n",
      "78: *\n",
      "79:\n",
      "80:\n",
      "81: *\n",
      "82:\n",
      "83:\n",
      "84: *\n",
      "85:\n",
      "86:\n",
      "87: *\n",
      "88:\n",
      "89:\n",
      "90: *\n",
      "91:\n",
      "92:\n",
      "93: *\n",
      "94:\n",
      "95:\n",
      "96: *\n",
      "97:\n",
      "98:\n",
      "99: *\n",
      "100:\n"
     ]
    }
   ],
   "source": [
    "for i in range(101):\n",
    "    if i == 0:\n",
    "        print(f\"{i}:\")\n",
    "    elif i % 3 == 0 and i != 3:\n",
    "        print(f\"{i}: *\")\n",
    "    else:\n",
    "        print(f\"{i}:\")"
   ]
  },
  {
   "cell_type": "code",
   "execution_count": 10,
   "id": "e8736ed5",
   "metadata": {},
   "outputs": [
    {
     "name": "stdout",
     "output_type": "stream",
     "text": [
      "Enter a number from 1 to 12: 3\n",
      "March has 31 days.\n"
     ]
    }
   ],
   "source": [
    "month = int(input(\"Enter a number from 1 to 12: \"))\n",
    "\n",
    "if month == 1:\n",
    "    print(\"January has 31 days.\")\n",
    "elif month == 2:\n",
    "    print(\"February has 28 days.\")\n",
    "elif month == 3:\n",
    "    print(\"March has 31 days.\")\n",
    "elif month == 4:\n",
    "    print(\"April has 30 days.\")\n",
    "elif month == 5:\n",
    "    print(\"May has 31 days.\")\n",
    "elif month == 6:\n",
    "    print(\"June has 30 days.\")\n",
    "elif month == 7:\n",
    "    print(\"July has 31 days.\")\n",
    "elif month == 8:\n",
    "    print(\"August has 31 days.\")\n",
    "elif month == 9:\n",
    "    print(\"September has 30 days.\")\n",
    "elif month == 10:\n",
    "    print(\"October has 31 days.\")\n",
    "elif month == 11:\n",
    "    print(\"November has 30 days.\")\n",
    "elif month == 12:\n",
    "    print(\"December has 31 days.\")\n",
    "else:\n",
    "    print(\"Invalid input. Please enter a number from 1 to 12.\")\n"
   ]
  },
  {
   "cell_type": "code",
   "execution_count": 13,
   "id": "31a8ab59",
   "metadata": {},
   "outputs": [
    {
     "name": "stdout",
     "output_type": "stream",
     "text": [
      "Enter a number: 2\n",
      "2 is a prime number.\n"
     ]
    }
   ],
   "source": [
    "num = int(input(\"Enter a number: \"))\n",
    "\n",
    "if num > 1:\n",
    "    for i in range(2, int(num/2) + 1):\n",
    "        if (num % i) == 0:\n",
    "            print(num, \"is not a prime number.\")\n",
    "            break\n",
    "    else:\n",
    "        print(num, \"is a prime number.\")\n",
    "else:\n",
    "    print(num, \"is not a prime number.\")\n"
   ]
  },
  {
   "cell_type": "code",
   "execution_count": 15,
   "id": "0806e939",
   "metadata": {},
   "outputs": [
    {
     "name": "stdout",
     "output_type": "stream",
     "text": [
      "Enter the first side: 2\n",
      "Enter the second side: 15\n",
      "Enter the third side: 3\n",
      "The triangle is a scalene triangle.\n"
     ]
    }
   ],
   "source": [
    "side1 = int(input(\"Enter the first side: \"))\n",
    "side2 = int(input(\"Enter the second side: \"))\n",
    "side3 = int(input(\"Enter the third side: \"))\n",
    "\n",
    "if side1 == side2 == side3:\n",
    "    print(\"The triangle is an equilateral triangle.\")\n",
    "elif side1 == side2 or side2 == side3 or side3 == side1:\n",
    "    print(\"The triangle is an isosceles triangle.\")\n",
    "else:\n",
    "    print(\"The triangle is a scalene triangle.\")\n"
   ]
  },
  {
   "cell_type": "code",
   "execution_count": 19,
   "id": "65cc5601",
   "metadata": {},
   "outputs": [
    {
     "name": "stdout",
     "output_type": "stream",
     "text": [
      "65: Senior Citizen\n",
      "78: Senior Citizen\n",
      "34: Adult\n",
      "56: Adult\n",
      "12: Minor\n",
      "9: Minor\n",
      "43: Adult\n",
      "67: Senior Citizen\n"
     ]
    }
   ],
   "source": [
    "ages = [65, 78, 34, 56, 12, 9, 43, 67]\n",
    "\n",
    "for age in ages:\n",
    "    if age < 18:\n",
    "        print(f\"{age}: Minor\")\n",
    "    elif age >= 18 and age <= 64:\n",
    "        print(f\"{age}: Adult\")\n",
    "    else:\n",
    "        print(f\"{age}: Senior Citizen\")"
   ]
  },
  {
   "cell_type": "code",
   "execution_count": null,
   "id": "66f5fa83",
   "metadata": {},
   "outputs": [],
   "source": []
  }
 ],
 "metadata": {
  "kernelspec": {
   "display_name": "Python 3 (ipykernel)",
   "language": "python",
   "name": "python3"
  },
  "language_info": {
   "codemirror_mode": {
    "name": "ipython",
    "version": 3
   },
   "file_extension": ".py",
   "mimetype": "text/x-python",
   "name": "python",
   "nbconvert_exporter": "python",
   "pygments_lexer": "ipython3",
   "version": "3.9.13"
  }
 },
 "nbformat": 4,
 "nbformat_minor": 5
}
